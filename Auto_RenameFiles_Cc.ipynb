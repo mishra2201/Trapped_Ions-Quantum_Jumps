{
 "cells": [
  {
   "cell_type": "markdown",
   "metadata": {},
   "source": [
    "Automatically renames all post-processed-files to fit the format used by our code. "
   ]
  },
  {
   "cell_type": "code",
   "execution_count": 57,
   "metadata": {},
   "outputs": [],
   "source": [
    "\n",
    "import re\n",
    "import os"
   ]
  },
  {
   "cell_type": "code",
   "execution_count": 60,
   "metadata": {},
   "outputs": [
    {
     "name": "stdout",
     "output_type": "stream",
     "text": [
      "(1)5ions_370V.csv\n",
      "5ions/5ions_370V_1.csv\n",
      "(2)5ions_370V.csv\n",
      "5ions/5ions_370V_2.csv\n",
      "04_18_5ionsteleg_335_370V_1762_locked_100W_x_402.5_y_151_z_340_100sec_-14dBm__2_W0028_H11-210418-210604-1_cent.csv\n",
      "5ions/5ions_370V_3.csv\n",
      "04_18_5ionsteleg_335_370V_1762_locked_100W_x_402.5_y_151_z_340_200sec_-14dBm__4_W0028_H11-210418-211213-1_cent.csv\n",
      "5ions/5ions_370V_4.csv\n"
     ]
    }
   ],
   "source": [
    "\n",
    "f_path=\"5ions/5ions_370V\"\n",
    "l=os.listdir(f_path)\n",
    " \n",
    "for count, nam in enumerate(l):\n",
    "    print (nam)\n",
    "    new_name=(f'{f_path}_{count+1}.csv')\n",
    "    print (new_name)\n",
    "    os.rename(f_path+'/'+nam,new_name)\n",
    "    "
   ]
  },
  {
   "cell_type": "code",
   "execution_count": null,
   "metadata": {},
   "outputs": [],
   "source": []
  }
 ],
 "metadata": {
  "kernelspec": {
   "display_name": "Python 3",
   "language": "python",
   "name": "python3"
  },
  "language_info": {
   "codemirror_mode": {
    "name": "ipython",
    "version": 3
   },
   "file_extension": ".py",
   "mimetype": "text/x-python",
   "name": "python",
   "nbconvert_exporter": "python",
   "pygments_lexer": "ipython3",
   "version": "3.7.6"
  }
 },
 "nbformat": 4,
 "nbformat_minor": 4
}
